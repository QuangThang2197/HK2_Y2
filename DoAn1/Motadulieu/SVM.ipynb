{
 "cells": [
  {
   "cell_type": "markdown",
   "metadata": {},
   "source": [
    "# Import các thư viện"
   ]
  },
  {
   "cell_type": "code",
   "execution_count": 1,
   "metadata": {},
   "outputs": [],
   "source": [
    "import numpy as np\n",
    "import pandas as pd"
   ]
  },
  {
   "cell_type": "markdown",
   "metadata": {},
   "source": [
    "## Khai báo dữ liệu"
   ]
  },
  {
   "cell_type": "code",
   "execution_count": 2,
   "metadata": {},
   "outputs": [
    {
     "data": {
      "text/html": [
       "<div>\n",
       "<style scoped>\n",
       "    .dataframe tbody tr th:only-of-type {\n",
       "        vertical-align: middle;\n",
       "    }\n",
       "\n",
       "    .dataframe tbody tr th {\n",
       "        vertical-align: top;\n",
       "    }\n",
       "\n",
       "    .dataframe thead th {\n",
       "        text-align: right;\n",
       "    }\n",
       "</style>\n",
       "<table border=\"1\" class=\"dataframe\">\n",
       "  <thead>\n",
       "    <tr style=\"text-align: right;\">\n",
       "      <th></th>\n",
       "      <th>HComment</th>\n",
       "      <th>HCommenter</th>\n",
       "      <th>HContribute</th>\n",
       "      <th>HDate</th>\n",
       "      <th>HThanks</th>\n",
       "      <th>HTime</th>\n",
       "      <th>HTravelType</th>\n",
       "      <th>HTravelerRating</th>\n",
       "      <th>h_Hotel_name</th>\n",
       "      <th>h_reviewer_address</th>\n",
       "      <th>h_reviewer_id</th>\n",
       "      <th>h_title_comment</th>\n",
       "      <th>h_url</th>\n",
       "    </tr>\n",
       "  </thead>\n",
       "  <tbody>\n",
       "    <tr>\n",
       "      <th>4681</th>\n",
       "      <td>Gia đình mình book 1 căn hộ 3 phòng ngủ ở đây ...</td>\n",
       "      <td>Trương L</td>\n",
       "      <td>1.0</td>\n",
       "      <td>tháng 6 năm 2018</td>\n",
       "      <td>NaN</td>\n",
       "      <td>thg 7 2018</td>\n",
       "      <td>Đã du lịch với gia đình</td>\n",
       "      <td>50.0</td>\n",
       "      <td>Khách sạn Le House</td>\n",
       "      <td>NaN</td>\n",
       "      <td>https://www.tripadvisor.com.vn/Profile/Pioneer...</td>\n",
       "      <td>Trải nghiệm tuyệt vời</td>\n",
       "      <td>https://www.tripadvisor.com.vn/Hotel_Review-g2...</td>\n",
       "    </tr>\n",
       "    <tr>\n",
       "      <th>7133</th>\n",
       "      <td>CÃ´ng ty mÃ¬nh cÃ³ chi nhÃ¡nh á»Ÿ ÄÃ  Náºµng ...</td>\n",
       "      <td>Tháº£o NhÆ°</td>\n",
       "      <td>1.0</td>\n",
       "      <td>thÃ¡ng 7 nÄƒm 2019</td>\n",
       "      <td>NaN</td>\n",
       "      <td>thg 8 2019</td>\n",
       "      <td>NaN</td>\n",
       "      <td>50.0</td>\n",
       "      <td>KhÃ¡ch sáº¡n HoÃ ng Linh Äan</td>\n",
       "      <td>NaN</td>\n",
       "      <td>https://www.tripadvisor.com.vn/Profile/Thaonhu...</td>\n",
       "      <td>Dá»‹ch vá»¥ tá»‘t ðŸ‘ giÃ¡ tá»‘t ðŸ‘</td>\n",
       "      <td>https://www.tripadvisor.com.vn/Hotel_Review-g2...</td>\n",
       "    </tr>\n",
       "    <tr>\n",
       "      <th>7038</th>\n",
       "      <td>KhÃ´ng ngá» á»Ÿ bÃ£i biá»ƒn XuÃ¢n Thiá»u láº...</td>\n",
       "      <td>lÃª tháº£o</td>\n",
       "      <td>2.0</td>\n",
       "      <td>thÃ¡ng 1 nÄƒm 2020</td>\n",
       "      <td>NaN</td>\n",
       "      <td>thg 1 2020</td>\n",
       "      <td>NaN</td>\n",
       "      <td>50.0</td>\n",
       "      <td>Da Nang Mikazuki Japanese Resorts &amp; Spa</td>\n",
       "      <td>NaN</td>\n",
       "      <td>https://www.tripadvisor.com.vn/Profile/lethith...</td>\n",
       "      <td>Tuyá»‡t vá»i</td>\n",
       "      <td>https://www.tripadvisor.com.vn/Hotel_Review-g1...</td>\n",
       "    </tr>\n",
       "    <tr>\n",
       "      <th>6757</th>\n",
       "      <td>NaN</td>\n",
       "      <td>NaN</td>\n",
       "      <td>NaN</td>\n",
       "      <td>NaN</td>\n",
       "      <td>NaN</td>\n",
       "      <td>NaN</td>\n",
       "      <td>NaN</td>\n",
       "      <td>NaN</td>\n",
       "      <td>NaN</td>\n",
       "      <td>NaN</td>\n",
       "      <td>NaN</td>\n",
       "      <td>NaN</td>\n",
       "      <td>https://www.tripadvisor.com.vn/Hotel_Review-g2...</td>\n",
       "    </tr>\n",
       "    <tr>\n",
       "      <th>5591</th>\n",
       "      <td>Vị trí là rất tốt. Phòng rất rộng rãi này nhìn...</td>\n",
       "      <td>Vishal S</td>\n",
       "      <td>16.0</td>\n",
       "      <td>tháng 10 năm 2018</td>\n",
       "      <td>25.0</td>\n",
       "      <td>thg 10 2018</td>\n",
       "      <td>NaN</td>\n",
       "      <td>50.0</td>\n",
       "      <td>Khách sạn Grand Tourane</td>\n",
       "      <td>NaN</td>\n",
       "      <td>https://www.tripadvisor.com.vn/Profile/VishalS...</td>\n",
       "      <td>Kỳ nghỉ ở Đà Nẵng</td>\n",
       "      <td>https://www.tripadvisor.com.vn/Hotel_Review-g2...</td>\n",
       "    </tr>\n",
       "    <tr>\n",
       "      <th>8071</th>\n",
       "      <td>Với giá 400,000 chúng tôi có thể tìm được nhiề...</td>\n",
       "      <td>Lily P</td>\n",
       "      <td>13.0</td>\n",
       "      <td>tháng 8 năm 2017</td>\n",
       "      <td>NaN</td>\n",
       "      <td>thg 8 2017</td>\n",
       "      <td>NaN</td>\n",
       "      <td>20.0</td>\n",
       "      <td>Danang Center Hotel</td>\n",
       "      <td>NaN</td>\n",
       "      <td>https://www.tripadvisor.com.vn/Profile/LilyP624</td>\n",
       "      <td>Một kinh nghiệm xấu tại Đà Nẵng</td>\n",
       "      <td>https://www.tripadvisor.com.vn/Hotel_Review-g2...</td>\n",
       "    </tr>\n",
       "    <tr>\n",
       "      <th>9971</th>\n",
       "      <td>NaN</td>\n",
       "      <td>NaN</td>\n",
       "      <td>NaN</td>\n",
       "      <td>NaN</td>\n",
       "      <td>NaN</td>\n",
       "      <td>NaN</td>\n",
       "      <td>NaN</td>\n",
       "      <td>NaN</td>\n",
       "      <td>NaN</td>\n",
       "      <td>NaN</td>\n",
       "      <td>NaN</td>\n",
       "      <td>NaN</td>\n",
       "      <td>https://www.tripadvisor.com.vn/Hotel_Review-g2...</td>\n",
       "    </tr>\n",
       "    <tr>\n",
       "      <th>7647</th>\n",
       "      <td>NaN</td>\n",
       "      <td>NaN</td>\n",
       "      <td>NaN</td>\n",
       "      <td>NaN</td>\n",
       "      <td>NaN</td>\n",
       "      <td>NaN</td>\n",
       "      <td>NaN</td>\n",
       "      <td>NaN</td>\n",
       "      <td>NaN</td>\n",
       "      <td>NaN</td>\n",
       "      <td>NaN</td>\n",
       "      <td>NaN</td>\n",
       "      <td>https://www.tripadvisor.com.vn/Hotel_Review-g2...</td>\n",
       "    </tr>\n",
       "    <tr>\n",
       "      <th>8066</th>\n",
       "      <td>Khách sạn đẹp, sạch sẽ; nhân viên thân thiện, ...</td>\n",
       "      <td>Crownjp</td>\n",
       "      <td>7.0</td>\n",
       "      <td>tháng 4 năm 2017</td>\n",
       "      <td>5.0</td>\n",
       "      <td>thg 4 2017</td>\n",
       "      <td>Đã du lịch với bạn bè</td>\n",
       "      <td>50.0</td>\n",
       "      <td>Nice Hotel</td>\n",
       "      <td>NaN</td>\n",
       "      <td>https://www.tripadvisor.com.vn/Profile/cr1410</td>\n",
       "      <td>Nice hotel Nice staff</td>\n",
       "      <td>https://www.tripadvisor.com.vn/Hotel_Review-g2...</td>\n",
       "    </tr>\n",
       "    <tr>\n",
       "      <th>808</th>\n",
       "      <td>NaN</td>\n",
       "      <td>NaN</td>\n",
       "      <td>NaN</td>\n",
       "      <td>NaN</td>\n",
       "      <td>NaN</td>\n",
       "      <td>NaN</td>\n",
       "      <td>NaN</td>\n",
       "      <td>NaN</td>\n",
       "      <td>NaN</td>\n",
       "      <td>NaN</td>\n",
       "      <td>NaN</td>\n",
       "      <td>NaN</td>\n",
       "      <td>https://www.tripadvisor.com.vn/Hotel_Review-g2...</td>\n",
       "    </tr>\n",
       "  </tbody>\n",
       "</table>\n",
       "</div>"
      ],
      "text/plain": [
       "                                               HComment   HCommenter  \\\n",
       "4681  Gia đình mình book 1 căn hộ 3 phòng ngủ ở đây ...     Trương L   \n",
       "7133  CÃ´ng ty mÃ¬nh cÃ³ chi nhÃ¡nh á»Ÿ ÄÃ  Náºµng ...  Tháº£o NhÆ°   \n",
       "7038  KhÃ´ng ngá» á»Ÿ bÃ£i biá»ƒn XuÃ¢n Thiá»u láº...   lÃª tháº£o   \n",
       "6757                                                NaN          NaN   \n",
       "5591  Vị trí là rất tốt. Phòng rất rộng rãi này nhìn...     Vishal S   \n",
       "8071  Với giá 400,000 chúng tôi có thể tìm được nhiề...       Lily P   \n",
       "9971                                                NaN          NaN   \n",
       "7647                                                NaN          NaN   \n",
       "8066  Khách sạn đẹp, sạch sẽ; nhân viên thân thiện, ...      Crownjp   \n",
       "808                                                 NaN          NaN   \n",
       "\n",
       "      HContribute                HDate  HThanks        HTime  \\\n",
       "4681          1.0     tháng 6 năm 2018      NaN   thg 7 2018   \n",
       "7133          1.0   thÃ¡ng 7 nÄƒm 2019      NaN   thg 8 2019   \n",
       "7038          2.0   thÃ¡ng 1 nÄƒm 2020      NaN   thg 1 2020   \n",
       "6757          NaN                  NaN      NaN          NaN   \n",
       "5591         16.0    tháng 10 năm 2018     25.0  thg 10 2018   \n",
       "8071         13.0     tháng 8 năm 2017      NaN   thg 8 2017   \n",
       "9971          NaN                  NaN      NaN          NaN   \n",
       "7647          NaN                  NaN      NaN          NaN   \n",
       "8066          7.0     tháng 4 năm 2017      5.0   thg 4 2017   \n",
       "808           NaN                  NaN      NaN          NaN   \n",
       "\n",
       "                  HTravelType  HTravelerRating  \\\n",
       "4681  Đã du lịch với gia đình             50.0   \n",
       "7133                      NaN             50.0   \n",
       "7038                      NaN             50.0   \n",
       "6757                      NaN              NaN   \n",
       "5591                      NaN             50.0   \n",
       "8071                      NaN             20.0   \n",
       "9971                      NaN              NaN   \n",
       "7647                      NaN              NaN   \n",
       "8066    Đã du lịch với bạn bè             50.0   \n",
       "808                       NaN              NaN   \n",
       "\n",
       "                                 h_Hotel_name h_reviewer_address  \\\n",
       "4681                       Khách sạn Le House                NaN   \n",
       "7133            KhÃ¡ch sáº¡n HoÃ ng Linh Äan                NaN   \n",
       "7038  Da Nang Mikazuki Japanese Resorts & Spa                NaN   \n",
       "6757                                      NaN                NaN   \n",
       "5591                  Khách sạn Grand Tourane                NaN   \n",
       "8071                      Danang Center Hotel                NaN   \n",
       "9971                                      NaN                NaN   \n",
       "7647                                      NaN                NaN   \n",
       "8066                               Nice Hotel                NaN   \n",
       "808                                       NaN                NaN   \n",
       "\n",
       "                                          h_reviewer_id  \\\n",
       "4681  https://www.tripadvisor.com.vn/Profile/Pioneer...   \n",
       "7133  https://www.tripadvisor.com.vn/Profile/Thaonhu...   \n",
       "7038  https://www.tripadvisor.com.vn/Profile/lethith...   \n",
       "6757                                                NaN   \n",
       "5591  https://www.tripadvisor.com.vn/Profile/VishalS...   \n",
       "8071    https://www.tripadvisor.com.vn/Profile/LilyP624   \n",
       "9971                                                NaN   \n",
       "7647                                                NaN   \n",
       "8066      https://www.tripadvisor.com.vn/Profile/cr1410   \n",
       "808                                                 NaN   \n",
       "\n",
       "                             h_title_comment  \\\n",
       "4681                   Trải nghiệm tuyệt vời   \n",
       "7133  Dá»‹ch vá»¥ tá»‘t ðŸ‘ giÃ¡ tá»‘t ðŸ‘   \n",
       "7038                           Tuyá»‡t vá»i   \n",
       "6757                                     NaN   \n",
       "5591                       Kỳ nghỉ ở Đà Nẵng   \n",
       "8071         Một kinh nghiệm xấu tại Đà Nẵng   \n",
       "9971                                     NaN   \n",
       "7647                                     NaN   \n",
       "8066                   Nice hotel Nice staff   \n",
       "808                                      NaN   \n",
       "\n",
       "                                                  h_url  \n",
       "4681  https://www.tripadvisor.com.vn/Hotel_Review-g2...  \n",
       "7133  https://www.tripadvisor.com.vn/Hotel_Review-g2...  \n",
       "7038  https://www.tripadvisor.com.vn/Hotel_Review-g1...  \n",
       "6757  https://www.tripadvisor.com.vn/Hotel_Review-g2...  \n",
       "5591  https://www.tripadvisor.com.vn/Hotel_Review-g2...  \n",
       "8071  https://www.tripadvisor.com.vn/Hotel_Review-g2...  \n",
       "9971  https://www.tripadvisor.com.vn/Hotel_Review-g2...  \n",
       "7647  https://www.tripadvisor.com.vn/Hotel_Review-g2...  \n",
       "8066  https://www.tripadvisor.com.vn/Hotel_Review-g2...  \n",
       "808   https://www.tripadvisor.com.vn/Hotel_Review-g2...  "
      ]
     },
     "execution_count": 2,
     "metadata": {},
     "output_type": "execute_result"
    }
   ],
   "source": [
    "df = pd.read_csv('DaNang_cmt_Viet.csv')\n",
    "df.sample(10)"
   ]
  },
  {
   "cell_type": "markdown",
   "metadata": {},
   "source": [
    "## Lọc dữ liệu"
   ]
  },
  {
   "cell_type": "code",
   "execution_count": 3,
   "metadata": {},
   "outputs": [],
   "source": [
    "# Copy dữ liệu\n",
    "df_2 = df.copy()"
   ]
  },
  {
   "cell_type": "code",
   "execution_count": 4,
   "metadata": {},
   "outputs": [],
   "source": [
    "# Lấy 2 cột dữ liệu HComment và HTravelerRating\n",
    "df_3 = df_2[['HComment', 'HTravelerRating']]"
   ]
  },
  {
   "cell_type": "code",
   "execution_count": 5,
   "metadata": {},
   "outputs": [
    {
     "data": {
      "text/plain": [
       "50.0    6400\n",
       "40.0    1153\n",
       "30.0     425\n",
       "10.0     313\n",
       "20.0     188\n",
       "Name: HTravelerRating, dtype: int64"
      ]
     },
     "execution_count": 5,
     "metadata": {},
     "output_type": "execute_result"
    }
   ],
   "source": [
    "#Đếm xem số lượng HTravelerRating \n",
    "df_3['HTravelerRating'].value_counts()"
   ]
  },
  {
   "cell_type": "code",
   "execution_count": 6,
   "metadata": {},
   "outputs": [],
   "source": [
    "# Những bình luận có HTravelerRating dưới 30 là Không hài lòng\n",
    "df_4 = df_3.loc[df['HTravelerRating'] < 30]\n",
    "df_4 = df_4.reset_index(drop=True)"
   ]
  },
  {
   "cell_type": "code",
   "execution_count": 7,
   "metadata": {},
   "outputs": [],
   "source": [
    "# Những bình luận có HTravelerRating bằng 50 là Hài lòng\n",
    "df_5 = df_3.loc[df['HTravelerRating'] == 50]\n",
    "df_5 = df_5.reset_index(drop=True)"
   ]
  },
  {
   "cell_type": "code",
   "execution_count": 8,
   "metadata": {},
   "outputs": [
    {
     "name": "stdout",
     "output_type": "stream",
     "text": [
      "501\n",
      "6400\n"
     ]
    }
   ],
   "source": [
    "print(len(df_4))\n",
    "print(len(df_5))"
   ]
  },
  {
   "cell_type": "markdown",
   "metadata": {},
   "source": [
    "Ta thấy rằng số lượng HComment hài lòng và không hài lòng quá chênh lệch nên không thể tiến hành train model được. Do đó phải chia lại dữ liệu sao cho bằng nhau"
   ]
  },
  {
   "cell_type": "code",
   "execution_count": 9,
   "metadata": {},
   "outputs": [
    {
     "data": {
      "text/plain": [
       "502"
      ]
     },
     "execution_count": 9,
     "metadata": {},
     "output_type": "execute_result"
    }
   ],
   "source": [
    "# Số lượng HComment hài lòng bằng số lượng HComment không hài lòng\n",
    "df_equal = df_5.loc[:len(df_4)]\n",
    "len(df_equal)"
   ]
  },
  {
   "cell_type": "code",
   "execution_count": 10,
   "metadata": {},
   "outputs": [
    {
     "name": "stdout",
     "output_type": "stream",
     "text": [
      "1003\n"
     ]
    },
    {
     "data": {
      "text/html": [
       "<div>\n",
       "<style scoped>\n",
       "    .dataframe tbody tr th:only-of-type {\n",
       "        vertical-align: middle;\n",
       "    }\n",
       "\n",
       "    .dataframe tbody tr th {\n",
       "        vertical-align: top;\n",
       "    }\n",
       "\n",
       "    .dataframe thead th {\n",
       "        text-align: right;\n",
       "    }\n",
       "</style>\n",
       "<table border=\"1\" class=\"dataframe\">\n",
       "  <thead>\n",
       "    <tr style=\"text-align: right;\">\n",
       "      <th></th>\n",
       "      <th>HComment</th>\n",
       "      <th>HTravelerRating</th>\n",
       "    </tr>\n",
       "  </thead>\n",
       "  <tbody>\n",
       "    <tr>\n",
       "      <th>0</th>\n",
       "      <td>Đồ ăn rất tệ (mặn), lễ tân gọi lâu nghe máy, k...</td>\n",
       "      <td>20.0</td>\n",
       "    </tr>\n",
       "    <tr>\n",
       "      <th>1</th>\n",
       "      <td>Nhìn thấy khách check in nhưng thái độ rất lạn...</td>\n",
       "      <td>10.0</td>\n",
       "    </tr>\n",
       "    <tr>\n",
       "      <th>2</th>\n",
       "      <td>Tôi đến đây ăn buffet cùng bạn theo chương trì...</td>\n",
       "      <td>20.0</td>\n",
       "    </tr>\n",
       "    <tr>\n",
       "      <th>3</th>\n",
       "      <td>Dịch vụ xe điện quá tệ , 15-30\" mới có xe đưa ...</td>\n",
       "      <td>10.0</td>\n",
       "    </tr>\n",
       "    <tr>\n",
       "      <th>4</th>\n",
       "      <td>Quá tệ...một khách sạn hạng sang mà lại bị hư ...</td>\n",
       "      <td>20.0</td>\n",
       "    </tr>\n",
       "    <tr>\n",
       "      <th>...</th>\n",
       "      <td>...</td>\n",
       "      <td>...</td>\n",
       "    </tr>\n",
       "    <tr>\n",
       "      <th>998</th>\n",
       "      <td>Nhân viên dễ thương và thân thiện, phục vụ nhi...</td>\n",
       "      <td>50.0</td>\n",
       "    </tr>\n",
       "    <tr>\n",
       "      <th>999</th>\n",
       "      <td>Mình ở đây 5 ngày 4 đêm. Mọi thứ trên cả sự mo...</td>\n",
       "      <td>50.0</td>\n",
       "    </tr>\n",
       "    <tr>\n",
       "      <th>1000</th>\n",
       "      <td>Quá đẳng cấp các bạn oi!\\nPhòng quá đẹp ! Món ...</td>\n",
       "      <td>50.0</td>\n",
       "    </tr>\n",
       "    <tr>\n",
       "      <th>1001</th>\n",
       "      <td>Resort tuyệt vời, món ăn ngon, nhân viên tuyệt...</td>\n",
       "      <td>50.0</td>\n",
       "    </tr>\n",
       "    <tr>\n",
       "      <th>1002</th>\n",
       "      <td>Tôi yêu nơi này, vì phong cảnh quá đẹp, sự phụ...</td>\n",
       "      <td>50.0</td>\n",
       "    </tr>\n",
       "  </tbody>\n",
       "</table>\n",
       "<p>1003 rows × 2 columns</p>\n",
       "</div>"
      ],
      "text/plain": [
       "                                               HComment  HTravelerRating\n",
       "0     Đồ ăn rất tệ (mặn), lễ tân gọi lâu nghe máy, k...             20.0\n",
       "1     Nhìn thấy khách check in nhưng thái độ rất lạn...             10.0\n",
       "2     Tôi đến đây ăn buffet cùng bạn theo chương trì...             20.0\n",
       "3     Dịch vụ xe điện quá tệ , 15-30\" mới có xe đưa ...             10.0\n",
       "4     Quá tệ...một khách sạn hạng sang mà lại bị hư ...             20.0\n",
       "...                                                 ...              ...\n",
       "998   Nhân viên dễ thương và thân thiện, phục vụ nhi...             50.0\n",
       "999   Mình ở đây 5 ngày 4 đêm. Mọi thứ trên cả sự mo...             50.0\n",
       "1000  Quá đẳng cấp các bạn oi!\\nPhòng quá đẹp ! Món ...             50.0\n",
       "1001  Resort tuyệt vời, món ăn ngon, nhân viên tuyệt...             50.0\n",
       "1002  Tôi yêu nơi này, vì phong cảnh quá đẹp, sự phụ...             50.0\n",
       "\n",
       "[1003 rows x 2 columns]"
      ]
     },
     "execution_count": 10,
     "metadata": {},
     "output_type": "execute_result"
    }
   ],
   "source": [
    "# Lấy 2 cột dữ liệu\n",
    "df_all = pd.concat([df_4, df_equal], axis = 0)\n",
    "df_all = df_all.reset_index(drop=True)\n",
    "print(len(df_all))\n",
    "df_all"
   ]
  },
  {
   "cell_type": "markdown",
   "metadata": {},
   "source": [
    "## Tạo cột Rate (Đánh giá của khách hàng)"
   ]
  },
  {
   "cell_type": "code",
   "execution_count": 25,
   "metadata": {},
   "outputs": [
    {
     "data": {
      "text/html": [
       "<div>\n",
       "<style scoped>\n",
       "    .dataframe tbody tr th:only-of-type {\n",
       "        vertical-align: middle;\n",
       "    }\n",
       "\n",
       "    .dataframe tbody tr th {\n",
       "        vertical-align: top;\n",
       "    }\n",
       "\n",
       "    .dataframe thead th {\n",
       "        text-align: right;\n",
       "    }\n",
       "</style>\n",
       "<table border=\"1\" class=\"dataframe\">\n",
       "  <thead>\n",
       "    <tr style=\"text-align: right;\">\n",
       "      <th></th>\n",
       "      <th>HComment</th>\n",
       "      <th>HTravelerRating</th>\n",
       "      <th>Rate</th>\n",
       "    </tr>\n",
       "  </thead>\n",
       "  <tbody>\n",
       "    <tr>\n",
       "      <th>0</th>\n",
       "      <td>Lần đâu tiên, gia đình tôi được nghĩ dưỡng 1 n...</td>\n",
       "      <td>50.0</td>\n",
       "      <td>Hài lòng</td>\n",
       "    </tr>\n",
       "    <tr>\n",
       "      <th>1</th>\n",
       "      <td>Nếu ngân sách đủ cho resort 4 tới 5 sao thì mì...</td>\n",
       "      <td>50.0</td>\n",
       "      <td>Hài lòng</td>\n",
       "    </tr>\n",
       "    <tr>\n",
       "      <th>2</th>\n",
       "      <td>Toi nhan duoc loi gioi thieu ve khach san Open...</td>\n",
       "      <td>20.0</td>\n",
       "      <td>Không hài lòng</td>\n",
       "    </tr>\n",
       "    <tr>\n",
       "      <th>3</th>\n",
       "      <td>Luôn đọc các đánh giá. . . và thật không may t...</td>\n",
       "      <td>10.0</td>\n",
       "      <td>Không hài lòng</td>\n",
       "    </tr>\n",
       "    <tr>\n",
       "      <th>4</th>\n",
       "      <td>Đã dành một tháng ở Việt Nam với tư cách là mộ...</td>\n",
       "      <td>10.0</td>\n",
       "      <td>Không hài lòng</td>\n",
       "    </tr>\n",
       "    <tr>\n",
       "      <th>5</th>\n",
       "      <td>là người tò mò muốn khám phá hêt những khách s...</td>\n",
       "      <td>50.0</td>\n",
       "      <td>Hài lòng</td>\n",
       "    </tr>\n",
       "    <tr>\n",
       "      <th>6</th>\n",
       "      <td>Chúng tôi đã có kì nghỉ tuyệt vời tại đây, phò...</td>\n",
       "      <td>50.0</td>\n",
       "      <td>Hài lòng</td>\n",
       "    </tr>\n",
       "    <tr>\n",
       "      <th>7</th>\n",
       "      <td>Tôi đặt một phòng ngủ giường đôi tư nhân với m...</td>\n",
       "      <td>10.0</td>\n",
       "      <td>Không hài lòng</td>\n",
       "    </tr>\n",
       "    <tr>\n",
       "      <th>8</th>\n",
       "      <td>Chúng tôi đã trải nghiệm qua nhiều khu du lịch...</td>\n",
       "      <td>50.0</td>\n",
       "      <td>Hài lòng</td>\n",
       "    </tr>\n",
       "    <tr>\n",
       "      <th>9</th>\n",
       "      <td>Tôi đã ở đó trong 1 đêm.\\r\\nKhi tôi kiểm tra, ...</td>\n",
       "      <td>20.0</td>\n",
       "      <td>Không hài lòng</td>\n",
       "    </tr>\n",
       "  </tbody>\n",
       "</table>\n",
       "</div>"
      ],
      "text/plain": [
       "                                            HComment  HTravelerRating  \\\n",
       "0  Lần đâu tiên, gia đình tôi được nghĩ dưỡng 1 n...             50.0   \n",
       "1  Nếu ngân sách đủ cho resort 4 tới 5 sao thì mì...             50.0   \n",
       "2  Toi nhan duoc loi gioi thieu ve khach san Open...             20.0   \n",
       "3  Luôn đọc các đánh giá. . . và thật không may t...             10.0   \n",
       "4  Đã dành một tháng ở Việt Nam với tư cách là mộ...             10.0   \n",
       "5  là người tò mò muốn khám phá hêt những khách s...             50.0   \n",
       "6  Chúng tôi đã có kì nghỉ tuyệt vời tại đây, phò...             50.0   \n",
       "7  Tôi đặt một phòng ngủ giường đôi tư nhân với m...             10.0   \n",
       "8  Chúng tôi đã trải nghiệm qua nhiều khu du lịch...             50.0   \n",
       "9  Tôi đã ở đó trong 1 đêm.\\r\\nKhi tôi kiểm tra, ...             20.0   \n",
       "\n",
       "             Rate  \n",
       "0        Hài lòng  \n",
       "1        Hài lòng  \n",
       "2  Không hài lòng  \n",
       "3  Không hài lòng  \n",
       "4  Không hài lòng  \n",
       "5        Hài lòng  \n",
       "6        Hài lòng  \n",
       "7  Không hài lòng  \n",
       "8        Hài lòng  \n",
       "9  Không hài lòng  "
      ]
     },
     "execution_count": 25,
     "metadata": {},
     "output_type": "execute_result"
    }
   ],
   "source": [
    "#Tạo cột Rate, nếu HTravelerRating bằng 50 thì là Hài lòng và ngược lại là Không hài lòng\n",
    "df_all[\"Rate\"] = np.where(df_all[\"HTravelerRating\"] >= 40, \"Hài lòng\" , \"Không hài lòng\")\n",
    "df_all.head(10)"
   ]
  },
  {
   "cell_type": "code",
   "execution_count": 26,
   "metadata": {},
   "outputs": [],
   "source": [
    "#df_all = df_all.sample(frac = 1)\n",
    "#df_all = df_all.reset_index(drop=True)\n",
    "#df_all.head(10)"
   ]
  },
  {
   "cell_type": "markdown",
   "metadata": {},
   "source": [
    "## Chia dữ liệu để train và test"
   ]
  },
  {
   "cell_type": "code",
   "execution_count": 13,
   "metadata": {},
   "outputs": [],
   "source": [
    "#Sử dụng thư viện train_test_split của sklearn để tự động chia dữ liệu\n",
    "from sklearn.model_selection import train_test_split\n",
    "x_train, x_test, y_train, y_test = train_test_split(df_all.HComment, df_all.Rate)"
   ]
  },
  {
   "cell_type": "code",
   "execution_count": 28,
   "metadata": {},
   "outputs": [],
   "source": [
    "#Chuyển dữ liệu sang dạng chuẩn để train\n",
    "from sklearn.feature_extraction.text import CountVectorizer\n",
    "v = CountVectorizer()\n",
    "x_train_vec = v.fit_transform(x_train)\n",
    "x_test_vec = v.transform(x_test)"
   ]
  },
  {
   "cell_type": "markdown",
   "metadata": {},
   "source": [
    "## Sử dụng thuật toán phân lớp SVM (Support Vector Machine)"
   ]
  },
  {
   "cell_type": "code",
   "execution_count": 15,
   "metadata": {},
   "outputs": [
    {
     "data": {
      "text/plain": [
       "SVC(kernel='linear')"
      ]
     },
     "execution_count": 15,
     "metadata": {},
     "output_type": "execute_result"
    }
   ],
   "source": [
    "#Sử dụng thuật toán SVM để train dữ liệu\n",
    "from sklearn import svm\n",
    "clf_svm = svm.SVC(kernel=\"linear\")\n",
    "clf_svm.fit(x_train_vec, y_train)"
   ]
  },
  {
   "cell_type": "code",
   "execution_count": 16,
   "metadata": {},
   "outputs": [
    {
     "data": {
      "text/plain": [
       "98.00796812749005"
      ]
     },
     "execution_count": 16,
     "metadata": {},
     "output_type": "execute_result"
    }
   ],
   "source": [
    "#Tính độ chính xác của model\n",
    "clf_svm.score(x_test_vec, y_test)*100"
   ]
  },
  {
   "cell_type": "code",
   "execution_count": 17,
   "metadata": {},
   "outputs": [
    {
     "data": {
      "text/plain": [
       "array([0.9787234 , 0.98127341])"
      ]
     },
     "execution_count": 17,
     "metadata": {},
     "output_type": "execute_result"
    }
   ],
   "source": [
    "#Kiểm định f1\n",
    "from sklearn.metrics import f1_score\n",
    "f1_score(y_test, clf_svm.predict(x_test_vec),average=None)"
   ]
  },
  {
   "cell_type": "markdown",
   "metadata": {},
   "source": [
    "### Thử nghiệm"
   ]
  },
  {
   "cell_type": "code",
   "execution_count": 18,
   "metadata": {},
   "outputs": [
    {
     "data": {
      "text/plain": [
       "array(['Hài lòng'], dtype=object)"
      ]
     },
     "execution_count": 18,
     "metadata": {},
     "output_type": "execute_result"
    }
   ],
   "source": [
    "# Ví dụ cho việc dự đoán sai\n",
    "rev = [\"Nơi này xấu quá, tôi ghét nơi này\"]\n",
    "rev_vec = v.transform(rev)\n",
    "clf_svm.predict(rev_vec)"
   ]
  },
  {
   "cell_type": "code",
   "execution_count": 19,
   "metadata": {},
   "outputs": [
    {
     "data": {
      "text/plain": [
       "array(['Hài lòng'], dtype=object)"
      ]
     },
     "execution_count": 19,
     "metadata": {},
     "output_type": "execute_result"
    }
   ],
   "source": [
    "rev = [\"Thiết kế về tre rất đẹp\"]\n",
    "rev_vec = v.transform(rev)\n",
    "clf_svm.predict(rev_vec)"
   ]
  },
  {
   "cell_type": "code",
   "execution_count": 20,
   "metadata": {},
   "outputs": [
    {
     "data": {
      "text/plain": [
       "array(['Không hài lòng'], dtype=object)"
      ]
     },
     "execution_count": 20,
     "metadata": {},
     "output_type": "execute_result"
    }
   ],
   "source": [
    "rev = [\"Không có tủ khóa\"]\n",
    "rev_vec = v.transform(rev)\n",
    "clf_svm.predict(rev_vec)"
   ]
  },
  {
   "cell_type": "code",
   "execution_count": 22,
   "metadata": {},
   "outputs": [
    {
     "data": {
      "text/plain": [
       "array(['Hài lòng'], dtype=object)"
      ]
     },
     "execution_count": 22,
     "metadata": {},
     "output_type": "execute_result"
    }
   ],
   "source": [
    "rev = [\"Tôi sẽ quay lại nơi này\"]\n",
    "rev_vec = v.transform(rev)\n",
    "clf_svm.predict(rev_vec)"
   ]
  },
  {
   "cell_type": "code",
   "execution_count": 23,
   "metadata": {},
   "outputs": [
    {
     "data": {
      "text/plain": [
       "array(['Không hài lòng'], dtype=object)"
      ]
     },
     "execution_count": 23,
     "metadata": {},
     "output_type": "execute_result"
    }
   ],
   "source": [
    "rev = [\"Đã đặt phòng qua đêm nhưng không có phòng\"]\n",
    "rev_vec = v.transform(rev)\n",
    "clf_svm.predict(rev_vec)"
   ]
  },
  {
   "cell_type": "code",
   "execution_count": null,
   "metadata": {},
   "outputs": [],
   "source": []
  }
 ],
 "metadata": {
  "interpreter": {
   "hash": "53d722122223680bd51c1371d5817d095e4de048a1fb68f3b092f6c2a1831ebb"
  },
  "kernelspec": {
   "display_name": "Python 3.8.8 ('base')",
   "language": "python",
   "name": "python3"
  },
  "language_info": {
   "codemirror_mode": {
    "name": "ipython",
    "version": 3
   },
   "file_extension": ".py",
   "mimetype": "text/x-python",
   "name": "python",
   "nbconvert_exporter": "python",
   "pygments_lexer": "ipython3",
   "version": "3.8.8"
  },
  "orig_nbformat": 4
 },
 "nbformat": 4,
 "nbformat_minor": 2
}
